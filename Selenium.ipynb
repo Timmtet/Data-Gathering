{
 "cells": [
  {
   "cell_type": "code",
   "execution_count": 47,
   "id": "605a2883",
   "metadata": {},
   "outputs": [],
   "source": [
    "from selenium import webdriver\n",
    "from selenium.webdriver.chrome.service import Service\n",
    "from selenium.webdriver.common.by import By\n",
    "from selenium.webdriver.common.keys import Keys\n",
    "import time\n",
    "\n",
    "s = Service(\"C:\\\\Users\\\\user\\\\Downloads\\\\Set ups\\\\chromedriver_win32\\\\chromedriver.exe\")\n",
    "driver = webdriver.Chrome(service= s)\n",
    "\n",
    "driver.get('https://www.rightmove.co.uk/')\n",
    "time.sleep(2)\n"
   ]
  },
  {
   "cell_type": "code",
   "execution_count": 48,
   "id": "a610efd5",
   "metadata": {},
   "outputs": [],
   "source": [
    "search = driver.find_element(By.XPATH, '/html/body/div[3]/div[2]/main/div[1]/div/div/div/div/input')\n",
    "search.send_keys('BR1')\n",
    "\n",
    "time.sleep(2)\n",
    "driver.find_element(By.XPATH, '/html/body/div[3]/div[2]/main/div[1]/div/div/div/button[1]').click()\n",
    "\n",
    "time.sleep(4)\n",
    "driver.find_element(By.XPATH, '/html/body/div[3]/div[2]/div/div[1]/div/form/fieldset[2]/div[4]/button').click()"
   ]
  },
  {
   "cell_type": "code",
   "execution_count": 55,
   "id": "7af31d8e",
   "metadata": {},
   "outputs": [],
   "source": [
    "search_list = driver.find_element(by='class name', value='l-searchResults')\n"
   ]
  },
  {
   "cell_type": "code",
   "execution_count": 57,
   "id": "883ecf5d",
   "metadata": {},
   "outputs": [
    {
     "ename": "TypeError",
     "evalue": "'WebElement' object is not iterable",
     "output_type": "error",
     "traceback": [
      "\u001b[1;31m---------------------------------------------------------------------------\u001b[0m",
      "\u001b[1;31mTypeError\u001b[0m                                 Traceback (most recent call last)",
      "Cell \u001b[1;32mIn[57], line 1\u001b[0m\n\u001b[1;32m----> 1\u001b[0m \u001b[38;5;28;01mfor\u001b[39;00m propert \u001b[38;5;129;01min\u001b[39;00m search_list:\n\u001b[0;32m      2\u001b[0m     properties \u001b[38;5;241m=\u001b[39m propert\u001b[38;5;241m.\u001b[39mfind_element(By\u001b[38;5;241m.\u001b[39mXPATH, \u001b[38;5;124m'\u001b[39m\u001b[38;5;124m/html/body/div[3]/div[2]/div[1]/div[2]/div[5]/div[1]/div/div[1]\u001b[39m\u001b[38;5;124m'\u001b[39m)\n\u001b[0;32m      3\u001b[0m     properties\n",
      "\u001b[1;31mTypeError\u001b[0m: 'WebElement' object is not iterable"
     ]
    }
   ],
   "source": [
    "for propert in search_list:\n",
    "    properties = propert.find_element(By.XPATH, '/html/body/div[3]/div[2]/div[1]/div[2]/div[5]/div[1]/div/div[1]')\n",
    "    properties"
   ]
  },
  {
   "cell_type": "code",
   "execution_count": null,
   "id": "db9c5ad9",
   "metadata": {},
   "outputs": [],
   "source": []
  }
 ],
 "metadata": {
  "kernelspec": {
   "display_name": "Python 3 (ipykernel)",
   "language": "python",
   "name": "python3"
  },
  "language_info": {
   "codemirror_mode": {
    "name": "ipython",
    "version": 3
   },
   "file_extension": ".py",
   "mimetype": "text/x-python",
   "name": "python",
   "nbconvert_exporter": "python",
   "pygments_lexer": "ipython3",
   "version": "3.11.3"
  }
 },
 "nbformat": 4,
 "nbformat_minor": 5
}

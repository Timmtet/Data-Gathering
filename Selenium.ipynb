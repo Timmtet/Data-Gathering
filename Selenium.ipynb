{
 "cells": [
  {
   "cell_type": "code",
   "execution_count": 44,
   "id": "605a2883",
   "metadata": {},
   "outputs": [],
   "source": [
    "from selenium import webdriver\n",
    "from selenium.webdriver.chrome.service import Service\n",
    "from selenium.webdriver.common.by import By\n",
    "from selenium.webdriver.common.keys import Keys\n",
    "import time\n",
    "\n",
    "#s = Service(\"C:\\\\Users\\\\user\\\\Downloads\\\\Set ups\\\\chromedriver_win32\\\\chromedriver.exe\")\n",
    "s = Service(\"C:\\\\Users\\\\akint\\\\Downloads\\\\Set up files\\\\chromedriver.exe\")\n",
    "driver = webdriver.Chrome(service= s)\n",
    "\n",
    "driver.get('https://www.rightmove.co.uk/')\n",
    "driver.maximize_window()\n",
    "time.sleep(2)\n"
   ]
  },
  {
   "cell_type": "code",
   "execution_count": 45,
   "id": "a610efd5",
   "metadata": {},
   "outputs": [],
   "source": [
    "search = driver.find_element(By.XPATH, '/html/body/div[3]/div[2]/main/div[1]/div/div/div/div/input')\n",
    "search.send_keys('BR1')\n",
    "\n",
    "time.sleep(2)\n",
    "driver.find_element(By.XPATH, '/html/body/div[3]/div[2]/main/div[1]/div/div/div/button[1]').click()\n",
    "\n",
    "time.sleep(2)\n",
    "driver.find_element(By.XPATH, '/html/body/div[3]/div[2]/div/div[1]/div/form/fieldset[2]/div[4]/button').click()"
   ]
  },
  {
   "cell_type": "code",
   "execution_count": 46,
   "id": "81929dab",
   "metadata": {},
   "outputs": [],
   "source": [
    "product_class = 'l-searchResults'\n",
    "next_botton = driver.find_element(By.XPATH, '/html/body/div[3]/div[2]/div[1]/div[3]/div/div/div/div[3]/button/span')\n"
   ]
  },
  {
   "cell_type": "code",
   "execution_count": 57,
   "id": "00c15533",
   "metadata": {},
   "outputs": [
    {
     "name": "stdout",
     "output_type": "stream",
     "text": [
      "scraping page 1\n"
     ]
    }
   ],
   "source": [
    "products= []\n",
    "for i in range(1):\n",
    "    print('scraping page', i+1)\n",
    "    #product_list = driver.find_elements(By.XPATH, \"//span[@class='text']\")\n",
    "    product_list = driver.find_elements(By.XPATH, '/html/body/div[3]/div[2]/div[1]/div[2]/div[5]/div[1]')\n",
    "    for i in product_list:\n",
    "        products.append(i.text)\n",
    "    next_botton = driver.find_element(By.XPATH, '/html/body/div[3]/div[2]/div[1]/div[3]/div/div/div/div[3]/button/span')\n",
    "    next_botton.click()\n",
    "    time.sleep(2)"
   ]
  },
  {
   "cell_type": "code",
   "execution_count": 58,
   "id": "d3f3cca0",
   "metadata": {},
   "outputs": [
    {
     "data": {
      "text/plain": [
       "1"
      ]
     },
     "execution_count": 58,
     "metadata": {},
     "output_type": "execute_result"
    }
   ],
   "source": [
    "len(products)"
   ]
  },
  {
   "cell_type": "code",
   "execution_count": 59,
   "id": "91eaf4bd",
   "metadata": {},
   "outputs": [
    {
     "name": "stdout",
     "output_type": "stream",
     "text": [
      "[\"1/24\\nFEATURED PROPERTY - CONVERSION\\n£650,000\\nOffers in Excess of\\nMavelstone Road, Bickley, Kent, BR1\\nApartment\\n3\\n2\\nLocated on the first floor of this magnificent Edwardian residence built in 1907 is this three bedroom/two bathroom apartment with double garage and own balcony overlooking the south facing garden.\\nReduced on 26/04/2023 by jdm, Chislehurst\\n1/3\\n£5,750,000\\nOffers Over\\nProvident House, 122-126 High Street, Bromley BR1\\nPlot for sale\\nPrivate residential development opportunity located in the London Borough of Bromley • Located on the High Street in the highly affluent and popular M25 town of Bromley • Situated 0.3 miles from both Bromley North and Bromley South stations • The ground floor and basement is occupied by Lidl (...\\nMarketed by Knight Frank Land, London\\nSave\\n1/45\\n£3,500,000\\nGuide Price\\nPREMIUM LISTING\\nWoodlands Close, Bromley\\nDetached\\n6\\n7\\nExtremely rare opportunity to purchase this truly stunning family home which is set behind gates and located on one of Bickley’s most desirable private roads. The current owners have undergone a full extension and refurbishment providing just under 7,500 sq ft. of luxury living arranged ove...\\nAdded on 25/03/2023 by Alan de Maid, Chislehurst\\nSave\\n1/32\\n£2,500,000\\nGuide Price\\nSundridge Avenue Bromley BR1\\nDetached\\n5\\n5\\nGuide Price £2,500,000 to £2,600,000. Brand new five bedroom, five bathroom, detached family home overlooking Sundridge Park Golf Course, providing approximately 4,000 sqft of beautifully designed living space.\\nAdded on 16/03/2023 by Unique, Langford Russell Bromley\\nSave\\n1/20\\n£2,400,000\\nCUL-DE-SAC\\nMavelstone Close, Bromley, Kent, BR1\\nDetached\\n6\\n3\\nA fantastic family home offered in quiet sought after cul de sac, close to Chislehurst, Elmstead Woods and Bickley stations, servicing your commute to London. Just 0.3 of a mile from Bullers Woods Schools. Six bedrooms, three bathrooms, large driveway and garage.\\nAdded on 22/02/2023 by jdm, Chislehurst\\nSave\\n1/5\\n£2,300,000\\nOffers in Excess of\\nSouthborough Road, Bromley\\nHouse\\n8\\n3\\nOf interest to property developers, speculators or possibly self builders, this character Edwardian period residence complete with coach house offers much potential. The property has a detailed planning history much of which has been resisted by local planners and appeal inspectors other than an ...\\nReduced on 13/04/2023 by Hunters, Bromley\\nSave\\n1/23\\n£2,250,000\\nGuide Price\\nTimms Close, Bromley, Kent, BR1\\nDetached\\n5\\n1\\nGuide Price £2,250,000 - £2,500,000 A unique award winning 5/6 bedroom detached family home with additional annexe. The property was designed and built for the current owners and benefits from a basement playroom, two studies and won a Green award with the London Borough of Brom...\\nReduced on 27/04/2023 by Sinclair Hammelton, Bromley\\nSave\\n1/19\\n£2,250,000\\nCLOSE TO STATION\\nBickley Park Road, Bickley, Kent, BR1\\nDetached\\n5\\n4\\nAn attractively designed and built modern house in an enviable location close to Bickley and Chislehurst stations and good schools.\\nAdded on 16/04/2023 by jdm, Chislehurst\\nSave\\n1/28\\n£2,250,000\\nGuide Price\\nTimms Close, Bickley, BR1\\nDetached\\n5\\n5\\nUnique, custom designed 'Green' award winning 5 bedroom detached home with additional self contained annex. Secluded plot within quiet close. Short walk from Bickley Station. EPC rating : C\\nReduced on 27/04/2023 by Fine & Country, Bromley\\nSave\\n1/27\\n£1,850,000\\nGuide Price\\nWoodlands Road, Bromley\\nHouse\\n5\\n3\\nWoodlands Road is probably one of Chislehurst's best kept secrets and most desirable locations, being on a private road in the highly sought after 'Bickley Park Estate'. Each home is unique and 'Foxdale' is certainly in that category. Already oozing with pure charm and natural character, ...\\nAdded on 07/02/2023 by Murray Lee Mckenzie, Belvedere\\nSave\\n1/16\\n£1,850,000\\nGuide Price\\nWestbury Road, Bromley\\nDetached\\n4\\n5\\nSet on a generous plot with a stunning 127 ft West facing garden is this spacious five bedroom detached house presented in excellent order 0.9 miles to both Elmstead Woods and Bickley BR\\nAdded on 15/03/2023 by Kinleigh Folkard & Hayward - Sales, Chislehurst\\nSave\\n1/13\\n£1,750,000\\nRodway Road, Bromley, BR1\\nDetached\\n4\\n3\\nA property of this stature in this town centre location is rare to market. This beautifully presented period family home is set in a sought after location in Bromley North. With close to 3,000 sq ft of accommodation this property has a wealth of spacious and flexible accommodation. An ...\\nAdded on 06/04/2023 by jdm, Bromley\\nSave\\n1/18\\n£1,750,000\\nOffers in Excess of\\nEdward Road, Bromley, Kent, BR1\\nDetached\\n4\\n2\\nOccupying this enviable plot with views over Sundridge Park golf course, an individual detached family home with character features throughout, the interior comprises a reception hallway, a double aspect reception with original fireplace, leading to the south facing garden, dining room overlookin...\\nReduced on 27/04/2023 by Sinclair Hammelton, Bromley\\nSave\\n1/28\\n£1,750,000\\nGuide Price\\nWoodlands Road, Bickley, Kent, BR1\\nDetached\\n5\\n4\\nGUIDE PRICE £1,750,000 - £1,850,000 Imposing, fabulous family home with many interesting features in this favoured private road near Chislehurst station. This is a must view to appreciate all it has to offer.\\nReduced on 27/04/2023 by jdm, Chislehurst\\nSave\\n1/21\\n£1,699,000\\nOffers in Excess of\\nPREMIUM LISTING\\nRepton Court Willoughby Lane BR1\\nTerraced\\n4\\n3\\nA unique opportunity to acquire a four bedroom, three bathroom regency style house on this stunning development within Sundridge Park Golf Course. Energy Efficiency Rating B.\\nAdded on 28/02/2023 by Langford Russell, Bromley\\nSave\\n1/19\\n£1,650,000\\nPREMIUM LISTING\\nWilloughby Lane, Bromley\\nTerraced\\n4\\n3\\nRare to the market is this stunning, four/five double bedroom, Grade II listed property, which is the largest centre home set within a beautiful crescent of Grade II Listed Coach Houses. This elegant Coach House dating back to 1805 and converted in 2008 by Millgate Homes has been beautifully and ...\\nReduced on 04/07/2022 by Alan de Maid, Bromley\\nSave\\n1/16\\n£1,650,000\\nGuide Price\\nWestbury Road, Bromley\\nDetached\\n4\\n3\\nOffering nearly 3000 sq ft of accommodation is this well presented and extended four/five bedroom detached house set 0.8 miles from Elmstead Woods & Bickley BR. Includes 70ft garden\\nAdded on 19/04/2023 by Kinleigh Folkard & Hayward - Sales, Chislehurst\\nSave\\n1/11\\n£1,649,950\\nGuide Price\\nPREMIUM LISTING\\nWilloughby Lane Bromley BR1\\nApartment\\n2\\n2\\nPlot 2 - The Repton - This two bedroom, two storey property has many impressive original features and benefits from two terraces. Extremely spacious at over 3,400 square feet, this unique apartment incorporates The Mansion’s original wine cellar.\\nONLINE VIEWING\\nReduced on 13/02/2023 by Unique, Langford Russell Bromley\\nSave\\n1/8\\n£1,649,950\\nGuide Price\\nPlot 2- The Repton, The Mansion At Sundridge Park, Willoughby Lane, Bromley, BR1\\nApartment\\n2\\nTwo bedroom, two storey apartment with double height drawing room, private terraces, garaging and set in extensive grounds.\\nReduced on 14/02/2023 by Savills New Homes, covering Southeast\\nSave\\n1/20\\n£1,625,000\\nSOUTH-FACING GARDEN\\nSouthlands Road, Bromley, Kent, BR1\\nDetached\\n6\\n5\\nWow! What an impressive, beautifully presented house set in a private position just a 5-minute walk to Bickley station, 10-minute walk to Bromley High or Bullers Wood Boys’ School, and about a 20-minute walk to Bullers Wood Girls’ School. With over c.3,500 sq ft of luxury accommodatio...\\nReduced on 02/02/2023 by jdm, Chislehurst\\nSave\\n1/22\\n£1,600,000\\nGuide Price\\nKinnaird Avenue Bromley BR1\\nDetached\\n5\\n3\\nStunning five-bedroom three-bathroom linked detached family home located in a quiet sought-after area of Sundridge Park. Chain free! Energy Efficiency Rating D.\\nAdded on 18/04/2023 by Langford Russell, Bromley\\nSave\\n1/26\\n£1,600,000\\nNO CHAIN\\nKinnaird Avenue, Bromley, Kent, BR1\\nLink Detached House\\n5\\n3\\nCHAIN FREE! A meticulously, tastefully decorated, beautiful five double bedroom, three bathroom family home which would suit the most discerning of purchasers. The property offers well proportioned versatile accommodation of just under 3,500 square feet. Benefits include - a stunning e...\\nReduced on 24/04/2023 by Sinclair Hammelton, Bromley\\nSave\\n1/18\\n£1,500,000\\nGuide Price\\nHillbrow Road, Bromley, Kent, BR1\\nDetached\\n5\\n2\\nGUIDE PRICE - £1,500,000 - £1,600,000 A unique and exceptional period detached house of some 2621 sq ft situated in this quiet and sought after road. Accommodation comprises; entrance hallway, utility room, two reception rooms, large kitchen/diner with far reaching views, further...\\nReduced on 09/01/2023 by Sinclair Hammelton, Bromley\\nSave\\n1/22\\n£1,500,000\\nVIEWING ADVISED\\nWoodlands Road, Bickley\\nDetached\\n5\\n3\\nExtremely rare opportunity to purchase this fantastic family home which is located on one of Chislehurst’s most desirable private roads. The property boasts extremely spacious and versatile accommodation arranged over three levels. The ground floor offers a stunning entrance hal...\\nReduced on 24/03/2023 by Alan de Maid, Chislehurst\\nSave\\n1/11\\n£1,500,000\\nOffers in Excess of\\nWoodlands Road, Bromley, Kent, BR1\\nPenthouse\\n3\\n3\\nIf you really want A TRUE WOW FACTOR PENTHOUSE then you must see this! This is perfect for downsizers, lock-up and leave buyers or anyone wanting an incredible, easy lifestyle living space. Viewings available 7 days a week.\\nNEW HOME\\nAdded on 24/04/2023 by jdm, Chislehurst\\nSave\"]\n"
     ]
    }
   ],
   "source": [
    "print(products)"
   ]
  },
  {
   "cell_type": "code",
   "execution_count": null,
   "id": "db9c5ad9",
   "metadata": {},
   "outputs": [],
   "source": []
  }
 ],
 "metadata": {
  "kernelspec": {
   "display_name": "Python 3 (ipykernel)",
   "language": "python",
   "name": "python3"
  },
  "language_info": {
   "codemirror_mode": {
    "name": "ipython",
    "version": 3
   },
   "file_extension": ".py",
   "mimetype": "text/x-python",
   "name": "python",
   "nbconvert_exporter": "python",
   "pygments_lexer": "ipython3",
   "version": "3.9.12"
  }
 },
 "nbformat": 4,
 "nbformat_minor": 5
}
